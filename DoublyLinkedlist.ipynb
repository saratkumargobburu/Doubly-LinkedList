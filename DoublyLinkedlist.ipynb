{
 "cells": [
  {
   "cell_type": "code",
   "execution_count": 6,
   "id": "4b96868a",
   "metadata": {},
   "outputs": [
    {
     "name": "stdout",
     "output_type": "stream",
     "text": [
      "the Doublylist is empty\n"
     ]
    }
   ],
   "source": [
    "#Doubly linked list creation\n",
    "class Node:\n",
    "    def __init__(self,data):\n",
    "        self.data=data\n",
    "        self.prev=None\n",
    "        self.link=None\n",
    "class DoublyList:\n",
    "    def __init__(self):\n",
    "        self.start=None\n",
    "    def Traverse(self):\n",
    "        if self.start is None:\n",
    "            print(\"the Doublylist is empty\")\n",
    "        \n",
    "obj=DoublyList()\n",
    "obj.Traverse()"
   ]
  },
  {
   "cell_type": "code",
   "execution_count": 2,
   "id": "56237418",
   "metadata": {},
   "outputs": [
    {
     "name": "stdout",
     "output_type": "stream",
     "text": [
      "3->2->9->5->None\n"
     ]
    }
   ],
   "source": [
    "#Doubly linked list insertion operations\n",
    "class Node:\n",
    "    def __init__(self,data):\n",
    "        self.data=data\n",
    "        self.prev=None\n",
    "        self.link=None\n",
    "class DoublyList:\n",
    "    def __init__(self):\n",
    "        self.start=None\n",
    "    def Traverse(self):\n",
    "        if self.start is None:\n",
    "            print(\"the Doublylist is empty???\")\n",
    "    def insert_Dobly(self,data):\n",
    "        new_node=Node(data)\n",
    "        new_node.link=self.start\n",
    "        self.start=new_node\n",
    "    def Doubly_end(self,data):\n",
    "        new_node=Node(data)\n",
    "        ptr=self.start\n",
    "        while(ptr.link):    #insert element at the end #traverse use ptr in while\n",
    "            ptr=ptr.link  #in to get end go for ptr.link part\n",
    "        ptr.link=new_node\n",
    "    def insertAfter(self, prev_node, new_data):\n",
    "        if prev_node is None:\n",
    "            print(\"The given previous node must inLinkedList.\")\n",
    "            return\n",
    "        new_node=Node(new_data)\n",
    "        new_node.link=prev_node.link\n",
    "        new_node.prev=prev_node\n",
    "        prev_node.link=new_node\n",
    "    def Traverse(self):\n",
    "        if self.start is None:\n",
    "            print(\"the list is empty\")\n",
    "        else:\n",
    "            ptr=self.start\n",
    "            while(ptr):\n",
    "                print(ptr.data,end=\"->\")\n",
    "                ptr=ptr.link\n",
    "        print(\"None\")\n",
    "obj=DoublyList()\n",
    "obj.insert_Dobly(2)\n",
    "obj.insert_Dobly(3)\n",
    "obj.insertAfter(obj.start.link,9)\n",
    "obj.Doubly_end(5)\n",
    "obj.Traverse()"
   ]
  },
  {
   "cell_type": "code",
   "execution_count": 7,
   "id": "744e2027",
   "metadata": {},
   "outputs": [
    {
     "name": "stdout",
     "output_type": "stream",
     "text": [
      "6->5->9->8->None\n"
     ]
    }
   ],
   "source": [
    "#Delection of the node\n",
    "class Node:\n",
    "    def __init__(self,data):\n",
    "        self.data=data\n",
    "        self.link=None\n",
    "        self.prev=None\n",
    "class Doublylinkedlist:\n",
    "    def __init__(self):\n",
    "        self.start=None\n",
    "    def insert_beg(self,data):\n",
    "        new_node=Node(data)\n",
    "        new_node.link=self.start\n",
    "        self.start=new_node\n",
    "    def insert_end(self,data):\n",
    "        new_node=Node(data)\n",
    "        ptr=self.start\n",
    "        while(ptr.link):\n",
    "            ptr=ptr.link\n",
    "        new_node.prev=ptr.link\n",
    "        ptr.link=new_node\n",
    "    def insert_mid(self,prev_node,data):\n",
    "        new_node=Node(data)\n",
    "        new_node.link=prev_node.link\n",
    "        new_node.prev=prev_node\n",
    "        prev_node.link=new_node \n",
    "    def Traverse(self):\n",
    "        ptr=self.start\n",
    "        while(ptr):\n",
    "            print(ptr.data,end=\"->\")\n",
    "            ptr=ptr.link\n",
    "        print(\"None\")\n",
    "obj=Doublylinkedlist()\n",
    "obj.insert_beg(5)\n",
    "obj.insert_beg(6)\n",
    "obj.insert_end(8)\n",
    "obj.insert_mid(obj.start.link,9)\n",
    "obj.Traverse()"
   ]
  },
  {
   "cell_type": "code",
   "execution_count": 16,
   "id": "fa3944d4",
   "metadata": {},
   "outputs": [
    {
     "name": "stdout",
     "output_type": "stream",
     "text": [
      "5->9->8->1->2->None\n"
     ]
    }
   ],
   "source": [
    "#Delection of the node\n",
    "class Node:\n",
    "    def __init__(self,data):\n",
    "        self.data=data\n",
    "        self.link=None\n",
    "        self.prev=None\n",
    "class Doublylinkedlist:\n",
    "    def __init__(self):\n",
    "        self.start=None\n",
    "    def insert_beg(self,data):\n",
    "        new_node=Node(data)\n",
    "        new_node.link=self.start\n",
    "        self.start=new_node\n",
    "    def insert_end(self,data):\n",
    "        new_node=Node(data)\n",
    "        ptr=self.start\n",
    "        while(ptr.link):\n",
    "            ptr=ptr.link\n",
    "        new_node.prev=ptr.link\n",
    "        ptr.link=new_node\n",
    "    def insert_mid(self,prev_node,data):\n",
    "        new_node=Node(data)\n",
    "        new_node.link=prev_node.link\n",
    "        new_node.prev=prev_node\n",
    "        prev_node.link=new_node\n",
    "    def deletion_beg(self):\n",
    "        ptr=self.start\n",
    "        self.start=ptr.link\n",
    "    def delete_at_end(self):\n",
    "        if self.start is None:\n",
    "            print(\"The Linked list is empty, no element to delete\")\n",
    "            return \n",
    "        if self.start.link is None:\n",
    "            self.start = None\n",
    "            return\n",
    "        n = self.start\n",
    "        while n.link is not None:\n",
    "            n = n.link\n",
    "        n.link = None\n",
    "    def Traverse(self):\n",
    "        ptr=self.start\n",
    "        while(ptr):\n",
    "            print(ptr.data,end=\"->\")\n",
    "            ptr=ptr.link\n",
    "        print(\"None\")\n",
    "obj=Doublylinkedlist()\n",
    "obj.insert_beg(5) #dow to up insertion is done\n",
    "obj.insert_beg(6) \n",
    "obj.insert_end(8) \n",
    "obj.insert_end(1)\n",
    "obj.insert_end(2)\n",
    "obj.insert_mid(obj.start.link,9)\n",
    "obj.deletion_beg()\n",
    "obj.delete_at_end()\n",
    "obj.Traverse()\n"
   ]
  },
  {
   "cell_type": "code",
   "execution_count": null,
   "id": "2f8785f0",
   "metadata": {},
   "outputs": [],
   "source": []
  }
 ],
 "metadata": {
  "kernelspec": {
   "display_name": "Python 3 (ipykernel)",
   "language": "python",
   "name": "python3"
  },
  "language_info": {
   "codemirror_mode": {
    "name": "ipython",
    "version": 3
   },
   "file_extension": ".py",
   "mimetype": "text/x-python",
   "name": "python",
   "nbconvert_exporter": "python",
   "pygments_lexer": "ipython3",
   "version": "3.9.7"
  }
 },
 "nbformat": 4,
 "nbformat_minor": 5
}
